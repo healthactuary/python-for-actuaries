{
 "cells": [
  {
   "cell_type": "code",
   "execution_count": 47,
   "metadata": {},
   "outputs": [],
   "source": [
    "#import packages\n",
    "import tensorflow as tf\n",
    "from tensorflow import keras\n",
    "import pandas as pd"
   ]
  },
  {
   "cell_type": "code",
   "execution_count": 48,
   "metadata": {
    "scrolled": true
   },
   "outputs": [],
   "source": [
    "#fetch data\n",
    "data = pd.read_csv(\"titanic.csv\")"
   ]
  },
  {
   "cell_type": "code",
   "execution_count": 49,
   "metadata": {},
   "outputs": [
    {
     "name": "stderr",
     "output_type": "stream",
     "text": [
      "/Users/UmaKasi/anaconda3/envs/data/lib/python3.7/site-packages/ipykernel_launcher.py:9: SettingWithCopyWarning: \n",
      "A value is trying to be set on a copy of a slice from a DataFrame.\n",
      "Try using .loc[row_indexer,col_indexer] = value instead\n",
      "\n",
      "See the caveats in the documentation: http://pandas.pydata.org/pandas-docs/stable/user_guide/indexing.html#returning-a-view-versus-a-copy\n",
      "  if __name__ == '__main__':\n"
     ]
    }
   ],
   "source": [
    "#reshape data\n",
    "xTrain = data[[\"Pclass\", \"Age\"]]\n",
    "newList = []\n",
    "for i in data[\"Sex\"]:\n",
    "    if i == \"male\":\n",
    "        newList.append(0)\n",
    "    else:\n",
    "        newList.append(1)\n",
    "xTrain[\"Sex\"] = newList\n",
    "\n",
    "yTrain = data[[\"Survived\"]]"
   ]
  },
  {
   "cell_type": "code",
   "execution_count": 50,
   "metadata": {},
   "outputs": [],
   "source": [
    "#build the model\n",
    "model = keras.Sequential([\n",
    "    keras.layers.Flatten(input_shape=(3, )),\n",
    "    keras.layers.Dense(units=256, activation=\"relu\"),\n",
    "    keras.layers.Dense(units=128, activation=\"relu\"),\n",
    "    keras.layers.Dense(units=56, activation=\"relu\"),\n",
    "    keras.layers.Dense(units=2, activation=\"softmax\")\n",
    "])"
   ]
  },
  {
   "cell_type": "code",
   "execution_count": 51,
   "metadata": {},
   "outputs": [
    {
     "name": "stdout",
     "output_type": "stream",
     "text": [
      "Epoch 1/10\n",
      "887/887 [==============================] - 0s 148us/sample - loss: 0.8498 - acc: 0.5840\n",
      "Epoch 2/10\n",
      "887/887 [==============================] - 0s 45us/sample - loss: 0.6035 - acc: 0.6821\n",
      "Epoch 3/10\n",
      "887/887 [==============================] - 0s 43us/sample - loss: 0.5622 - acc: 0.7148\n",
      "Epoch 4/10\n",
      "887/887 [==============================] - 0s 42us/sample - loss: 0.5353 - acc: 0.7486\n",
      "Epoch 5/10\n",
      "887/887 [==============================] - 0s 37us/sample - loss: 0.5115 - acc: 0.7768\n",
      "Epoch 6/10\n",
      "887/887 [==============================] - 0s 38us/sample - loss: 0.4931 - acc: 0.7711\n",
      "Epoch 7/10\n",
      "887/887 [==============================] - 0s 39us/sample - loss: 0.4719 - acc: 0.7847\n",
      "Epoch 8/10\n",
      "887/887 [==============================] - 0s 37us/sample - loss: 0.4716 - acc: 0.7802\n",
      "Epoch 9/10\n",
      "887/887 [==============================] - 0s 41us/sample - loss: 0.4591 - acc: 0.7858\n",
      "Epoch 10/10\n",
      "887/887 [==============================] - 0s 41us/sample - loss: 0.4480 - acc: 0.7914\n"
     ]
    },
    {
     "data": {
      "text/plain": [
       "<tensorflow.python.keras.callbacks.History at 0x63441cb50>"
      ]
     },
     "execution_count": 51,
     "metadata": {},
     "output_type": "execute_result"
    }
   ],
   "source": [
    "#Train model\n",
    "model.compile(optimizer=\"adam\", loss=\"sparse_categorical_crossentropy\", metrics=[\"accuracy\"])\n",
    "model.fit(xTrain, yTrain, epochs=10)"
   ]
  },
  {
   "cell_type": "code",
   "execution_count": 54,
   "metadata": {},
   "outputs": [
    {
     "data": {
      "text/plain": [
       "array([[0.936929  , 0.06307107],\n",
       "       [0.25914523, 0.74085474],\n",
       "       [0.61883783, 0.3811622 ],\n",
       "       ...,\n",
       "       [0.4828152 , 0.5171848 ],\n",
       "       [0.7978728 , 0.20212714],\n",
       "       [0.9582027 , 0.04179729]], dtype=float32)"
      ]
     },
     "execution_count": 54,
     "metadata": {},
     "output_type": "execute_result"
    }
   ],
   "source": [
    "#Make predictions\n",
    "model.predict(xTrain)"
   ]
  }
 ],
 "metadata": {
  "kernelspec": {
   "display_name": "Python 3",
   "language": "python",
   "name": "python3"
  },
  "language_info": {
   "codemirror_mode": {
    "name": "ipython",
    "version": 3
   },
   "file_extension": ".py",
   "mimetype": "text/x-python",
   "name": "python",
   "nbconvert_exporter": "python",
   "pygments_lexer": "ipython3",
   "version": "3.7.4"
  }
 },
 "nbformat": 4,
 "nbformat_minor": 2
}
